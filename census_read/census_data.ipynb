{
 "cells": [
  {
   "cell_type": "code",
   "execution_count": 1,
   "metadata": {},
   "outputs": [],
   "source": [
    "import matplotlib.pyplot as plt\n",
    "import requests\n",
    "import pandas as pd\n",
    "from josh_census_key import key"
   ]
  },
  {
   "cell_type": "code",
   "execution_count": 2,
   "metadata": {},
   "outputs": [],
   "source": [
    "#Save config information\n",
    "url = \"https://api.census.gov/data/2019/acs/acs5/subject?get=NAME,S1903_C03_001E,S1903_C03_015E,S0101_C01_001E&for=county&in=state:41&in=county:*&key=\"\n",
    "query_url = f\"{url}{key}\""
   ]
  },
  {
   "cell_type": "code",
   "execution_count": 3,
   "metadata": {},
   "outputs": [
    {
     "name": "stdout",
     "output_type": "stream",
     "text": [
      "https://api.census.gov/data/2019/acs/acs5/subject?get=NAME,S1903_C03_001E,S1903_C03_015E,S0101_C01_001E&for=county&in=state:41&in=county:*&key=778784d32599426dc6127dc66649a53e676f584d\n"
     ]
    }
   ],
   "source": [
    "print(query_url)"
   ]
  },
  {
   "cell_type": "code",
   "execution_count": 15,
   "metadata": {},
   "outputs": [],
   "source": [
    "columns={\n",
    "\"County\",\n",
    "\"Household Median Income\",\n",
    "\"Family's Median Income\",\n",
    "\"Total Population\",\n",
    "\"State Code\",\n",
    "\"County Code\",\n",
    "}\n",
    "census_df = pd.DataFrame(columns=columns)"
   ]
  },
  {
   "cell_type": "code",
   "execution_count": 10,
   "metadata": {},
   "outputs": [],
   "source": [
    "response = requests.get(query_url).json()"
   ]
  },
  {
   "cell_type": "code",
   "execution_count": 13,
   "metadata": {
    "scrolled": true
   },
   "outputs": [
    {
     "data": {
      "text/plain": [
       "[['NAME',\n",
       "  'S1903_C03_001E',\n",
       "  'S1903_C03_015E',\n",
       "  'S0101_C01_001E',\n",
       "  'state',\n",
       "  'county'],\n",
       " ['Lane County, Oregon', '52426', '68798', '373340', '41', '039'],\n",
       " ['Washington County, Oregon', '82215', '97196', '589481', '41', '067'],\n",
       " ['Clatsop County, Oregon', '54886', '71748', '39102', '41', '007'],\n",
       " ['Jackson County, Oregon', '53412', '66473', '216574', '41', '029'],\n",
       " ['Grant County, Oregon', '44712', '56161', '7189', '41', '023'],\n",
       " ['Clackamas County, Oregon', '80484', '97130', '410463', '41', '005'],\n",
       " ['Tillamook County, Oregon', '49895', '61990', '26389', '41', '057'],\n",
       " ['Josephine County, Oregon', '45616', '54525', '86251', '41', '033'],\n",
       " ['Umatilla County, Oregon', '54699', '64956', '77129', '41', '059'],\n",
       " ['Columbia County, Oregon', '62257', '78223', '51375', '41', '009'],\n",
       " ['Wasco County, Oregon', '53105', '64120', '26130', '41', '065'],\n",
       " ['Union County, Oregon', '52171', '63265', '26337', '41', '061'],\n",
       " ['Marion County, Oregon', '59625', '69928', '339641', '41', '047'],\n",
       " ['Douglas County, Oregon', '47267', '56022', '109114', '41', '019'],\n",
       " ['Jefferson County, Oregon', '53277', '64413', '23607', '41', '031'],\n",
       " ['Polk County, Oregon', '62691', '76751', '83037', '41', '053'],\n",
       " ['Deschutes County, Oregon', '67043', '77395', '186251', '41', '017'],\n",
       " ['Linn County, Oregon', '55893', '66596', '125048', '41', '043'],\n",
       " ['Yamhill County, Oregon', '63902', '75924', '104831', '41', '071'],\n",
       " ['Baker County, Oregon', '45998', '58285', '16019', '41', '001'],\n",
       " ['Klamath County, Oregon', '46491', '54956', '66921', '41', '035'],\n",
       " ['Lincoln County, Oregon', '47882', '57424', '48547', '41', '041'],\n",
       " ['Benton County, Oregon', '62077', '85730', '91107', '41', '003'],\n",
       " ['Crook County, Oregon', '49006', '63468', '23011', '41', '013'],\n",
       " ['Sherman County, Oregon', '51071', '63068', '1642', '41', '055'],\n",
       " ['Harney County, Oregon', '40735', '52556', '7267', '41', '025'],\n",
       " ['Malheur County, Oregon', '43313', '50152', '30412', '41', '045'],\n",
       " ['Wallowa County, Oregon', '51224', '66150', '7004', '41', '063'],\n",
       " ['Wheeler County, Oregon', '40926', '46731', '1415', '41', '069'],\n",
       " ['Morrow County, Oregon', '54269', '61236', '11303', '41', '049'],\n",
       " ['Coos County, Oregon', '45051', '58730', '63686', '41', '011'],\n",
       " ['Curry County, Oregon', '48440', '61946', '22650', '41', '015'],\n",
       " ['Gilliam County, Oregon', '47500', '62404', '1878', '41', '021'],\n",
       " ['Hood River County, Oregon', '65679', '77121', '23209', '41', '027'],\n",
       " ['Lake County, Oregon', '37898', '53665', '7837', '41', '037'],\n",
       " ['Multnomah County, Oregon', '69176', '86969', '804606', '41', '051']]"
      ]
     },
     "execution_count": 13,
     "metadata": {},
     "output_type": "execute_result"
    }
   ],
   "source": [
    "response"
   ]
  },
  {
   "cell_type": "code",
   "execution_count": 38,
   "metadata": {
    "scrolled": true
   },
   "outputs": [
    {
     "name": "stdout",
     "output_type": "stream",
     "text": [
      "['Lane County, Oregon', '52426', '68798', '373340', '41', '039']\n",
      "['Washington County, Oregon', '82215', '97196', '589481', '41', '067']\n",
      "['Clatsop County, Oregon', '54886', '71748', '39102', '41', '007']\n",
      "['Jackson County, Oregon', '53412', '66473', '216574', '41', '029']\n",
      "['Grant County, Oregon', '44712', '56161', '7189', '41', '023']\n",
      "['Clackamas County, Oregon', '80484', '97130', '410463', '41', '005']\n",
      "['Tillamook County, Oregon', '49895', '61990', '26389', '41', '057']\n",
      "['Josephine County, Oregon', '45616', '54525', '86251', '41', '033']\n",
      "['Umatilla County, Oregon', '54699', '64956', '77129', '41', '059']\n",
      "['Columbia County, Oregon', '62257', '78223', '51375', '41', '009']\n",
      "['Wasco County, Oregon', '53105', '64120', '26130', '41', '065']\n",
      "['Union County, Oregon', '52171', '63265', '26337', '41', '061']\n",
      "['Marion County, Oregon', '59625', '69928', '339641', '41', '047']\n",
      "['Douglas County, Oregon', '47267', '56022', '109114', '41', '019']\n",
      "['Jefferson County, Oregon', '53277', '64413', '23607', '41', '031']\n",
      "['Polk County, Oregon', '62691', '76751', '83037', '41', '053']\n",
      "['Deschutes County, Oregon', '67043', '77395', '186251', '41', '017']\n",
      "['Linn County, Oregon', '55893', '66596', '125048', '41', '043']\n",
      "['Yamhill County, Oregon', '63902', '75924', '104831', '41', '071']\n",
      "['Baker County, Oregon', '45998', '58285', '16019', '41', '001']\n",
      "['Klamath County, Oregon', '46491', '54956', '66921', '41', '035']\n",
      "['Lincoln County, Oregon', '47882', '57424', '48547', '41', '041']\n",
      "['Benton County, Oregon', '62077', '85730', '91107', '41', '003']\n",
      "['Crook County, Oregon', '49006', '63468', '23011', '41', '013']\n",
      "['Sherman County, Oregon', '51071', '63068', '1642', '41', '055']\n",
      "['Harney County, Oregon', '40735', '52556', '7267', '41', '025']\n",
      "['Malheur County, Oregon', '43313', '50152', '30412', '41', '045']\n",
      "['Wallowa County, Oregon', '51224', '66150', '7004', '41', '063']\n",
      "['Wheeler County, Oregon', '40926', '46731', '1415', '41', '069']\n",
      "['Morrow County, Oregon', '54269', '61236', '11303', '41', '049']\n",
      "['Coos County, Oregon', '45051', '58730', '63686', '41', '011']\n",
      "['Curry County, Oregon', '48440', '61946', '22650', '41', '015']\n",
      "['Gilliam County, Oregon', '47500', '62404', '1878', '41', '021']\n",
      "['Hood River County, Oregon', '65679', '77121', '23209', '41', '027']\n",
      "['Lake County, Oregon', '37898', '53665', '7837', '41', '037']\n",
      "['Multnomah County, Oregon', '69176', '86969', '804606', '41', '051']\n"
     ]
    }
   ],
   "source": [
    "for i in range(1, len(response)):\n",
    "    print(response[i])\n",
    "    new_row={\n",
    "        \"County\":response[i][0],\n",
    "        \"Household Median Income\":response[i][1],\n",
    "        \"Family's Median Income\":response[i][2],\n",
    "        \"Total Population\":response[i][3],\n",
    "        \"State Code\":response[i][4],\n",
    "        \"County Code\":response[i][5],\n",
    "    }\n",
    "    census_df = census_df.append(new_row, ignore_index=True)"
   ]
  },
  {
   "cell_type": "code",
   "execution_count": 39,
   "metadata": {},
   "outputs": [
    {
     "data": {
      "text/html": [
       "<div>\n",
       "<style scoped>\n",
       "    .dataframe tbody tr th:only-of-type {\n",
       "        vertical-align: middle;\n",
       "    }\n",
       "\n",
       "    .dataframe tbody tr th {\n",
       "        vertical-align: top;\n",
       "    }\n",
       "\n",
       "    .dataframe thead th {\n",
       "        text-align: right;\n",
       "    }\n",
       "</style>\n",
       "<table border=\"1\" class=\"dataframe\">\n",
       "  <thead>\n",
       "    <tr style=\"text-align: right;\">\n",
       "      <th></th>\n",
       "      <th>State Code</th>\n",
       "      <th>County</th>\n",
       "      <th>County Code</th>\n",
       "      <th>Family's Median Income</th>\n",
       "      <th>Household Median Income</th>\n",
       "      <th>Total Population</th>\n",
       "    </tr>\n",
       "  </thead>\n",
       "  <tbody>\n",
       "    <tr>\n",
       "      <th>0</th>\n",
       "      <td>41</td>\n",
       "      <td>Lane County, Oregon</td>\n",
       "      <td>039</td>\n",
       "      <td>68798</td>\n",
       "      <td>52426</td>\n",
       "      <td>373340</td>\n",
       "    </tr>\n",
       "    <tr>\n",
       "      <th>1</th>\n",
       "      <td>41</td>\n",
       "      <td>Washington County, Oregon</td>\n",
       "      <td>067</td>\n",
       "      <td>97196</td>\n",
       "      <td>82215</td>\n",
       "      <td>589481</td>\n",
       "    </tr>\n",
       "    <tr>\n",
       "      <th>2</th>\n",
       "      <td>41</td>\n",
       "      <td>Clatsop County, Oregon</td>\n",
       "      <td>007</td>\n",
       "      <td>71748</td>\n",
       "      <td>54886</td>\n",
       "      <td>39102</td>\n",
       "    </tr>\n",
       "    <tr>\n",
       "      <th>3</th>\n",
       "      <td>41</td>\n",
       "      <td>Jackson County, Oregon</td>\n",
       "      <td>029</td>\n",
       "      <td>66473</td>\n",
       "      <td>53412</td>\n",
       "      <td>216574</td>\n",
       "    </tr>\n",
       "    <tr>\n",
       "      <th>4</th>\n",
       "      <td>41</td>\n",
       "      <td>Grant County, Oregon</td>\n",
       "      <td>023</td>\n",
       "      <td>56161</td>\n",
       "      <td>44712</td>\n",
       "      <td>7189</td>\n",
       "    </tr>\n",
       "    <tr>\n",
       "      <th>...</th>\n",
       "      <td>...</td>\n",
       "      <td>...</td>\n",
       "      <td>...</td>\n",
       "      <td>...</td>\n",
       "      <td>...</td>\n",
       "      <td>...</td>\n",
       "    </tr>\n",
       "    <tr>\n",
       "      <th>67</th>\n",
       "      <td>41</td>\n",
       "      <td>Curry County, Oregon</td>\n",
       "      <td>015</td>\n",
       "      <td>61946</td>\n",
       "      <td>48440</td>\n",
       "      <td>22650</td>\n",
       "    </tr>\n",
       "    <tr>\n",
       "      <th>68</th>\n",
       "      <td>41</td>\n",
       "      <td>Gilliam County, Oregon</td>\n",
       "      <td>021</td>\n",
       "      <td>62404</td>\n",
       "      <td>47500</td>\n",
       "      <td>1878</td>\n",
       "    </tr>\n",
       "    <tr>\n",
       "      <th>69</th>\n",
       "      <td>41</td>\n",
       "      <td>Hood River County, Oregon</td>\n",
       "      <td>027</td>\n",
       "      <td>77121</td>\n",
       "      <td>65679</td>\n",
       "      <td>23209</td>\n",
       "    </tr>\n",
       "    <tr>\n",
       "      <th>70</th>\n",
       "      <td>41</td>\n",
       "      <td>Lake County, Oregon</td>\n",
       "      <td>037</td>\n",
       "      <td>53665</td>\n",
       "      <td>37898</td>\n",
       "      <td>7837</td>\n",
       "    </tr>\n",
       "    <tr>\n",
       "      <th>71</th>\n",
       "      <td>41</td>\n",
       "      <td>Multnomah County, Oregon</td>\n",
       "      <td>051</td>\n",
       "      <td>86969</td>\n",
       "      <td>69176</td>\n",
       "      <td>804606</td>\n",
       "    </tr>\n",
       "  </tbody>\n",
       "</table>\n",
       "<p>72 rows × 6 columns</p>\n",
       "</div>"
      ],
      "text/plain": [
       "   State Code                     County County Code Family's Median Income  \\\n",
       "0          41        Lane County, Oregon         039                  68798   \n",
       "1          41  Washington County, Oregon         067                  97196   \n",
       "2          41     Clatsop County, Oregon         007                  71748   \n",
       "3          41     Jackson County, Oregon         029                  66473   \n",
       "4          41       Grant County, Oregon         023                  56161   \n",
       "..        ...                        ...         ...                    ...   \n",
       "67         41       Curry County, Oregon         015                  61946   \n",
       "68         41     Gilliam County, Oregon         021                  62404   \n",
       "69         41  Hood River County, Oregon         027                  77121   \n",
       "70         41        Lake County, Oregon         037                  53665   \n",
       "71         41   Multnomah County, Oregon         051                  86969   \n",
       "\n",
       "   Household Median Income Total Population  \n",
       "0                    52426           373340  \n",
       "1                    82215           589481  \n",
       "2                    54886            39102  \n",
       "3                    53412           216574  \n",
       "4                    44712             7189  \n",
       "..                     ...              ...  \n",
       "67                   48440            22650  \n",
       "68                   47500             1878  \n",
       "69                   65679            23209  \n",
       "70                   37898             7837  \n",
       "71                   69176           804606  \n",
       "\n",
       "[72 rows x 6 columns]"
      ]
     },
     "execution_count": 39,
     "metadata": {},
     "output_type": "execute_result"
    }
   ],
   "source": [
    "census_df"
   ]
  },
  {
   "cell_type": "code",
   "execution_count": null,
   "metadata": {},
   "outputs": [],
   "source": []
  },
  {
   "cell_type": "code",
   "execution_count": null,
   "metadata": {},
   "outputs": [],
   "source": []
  },
  {
   "cell_type": "code",
   "execution_count": null,
   "metadata": {},
   "outputs": [],
   "source": []
  }
 ],
 "metadata": {
  "kernelspec": {
   "display_name": "Python 3",
   "language": "python",
   "name": "python3"
  },
  "language_info": {
   "codemirror_mode": {
    "name": "ipython",
    "version": 3
   },
   "file_extension": ".py",
   "mimetype": "text/x-python",
   "name": "python",
   "nbconvert_exporter": "python",
   "pygments_lexer": "ipython3",
   "version": "3.6.10"
  }
 },
 "nbformat": 4,
 "nbformat_minor": 4
}
